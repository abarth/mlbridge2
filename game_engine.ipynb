{
 "cells": [
  {
   "cell_type": "code",
   "execution_count": 13,
   "id": "2efa2ff7-19d1-49b8-b97f-82731b6d1c25",
   "metadata": {},
   "outputs": [],
   "source": [
    "SUITS = [ \"C\", \"D\", \"H\", \"S\" ]"
   ]
  },
  {
   "cell_type": "code",
   "execution_count": 14,
   "id": "2485fcda-0715-4381-abd3-a19d0afae1c0",
   "metadata": {},
   "outputs": [],
   "source": [
    "RANKS = [ \"2\", \"3\", \"4\", \"5\", \"6\", \"7\", \"8\", \"9\", \"T\", \"J\", \"Q\", \"K\", \"A\" ]"
   ]
  },
  {
   "cell_type": "code",
   "execution_count": 15,
   "id": "e6a76a0c-56d9-40fc-ae37-39d03a49cf73",
   "metadata": {},
   "outputs": [],
   "source": [
    "STRAINS = SUITS + [ \"NT\" ]"
   ]
  },
  {
   "cell_type": "code",
   "execution_count": 16,
   "id": "17c5c2e4-5521-4b92-a389-79f18d7af335",
   "metadata": {},
   "outputs": [],
   "source": [
    "POSITIONS = [ \"N\", \"S\", \"E\", \"W\" ]"
   ]
  },
  {
   "cell_type": "code",
   "execution_count": 17,
   "id": "5020c6a5-6c89-4639-9987-feb8f7978280",
   "metadata": {},
   "outputs": [],
   "source": [
    "CALLS = [ \"P\", \"X\", \"XX\" ]\n",
    "for level in range(7):\n",
    "    for strain in STRAINS:\n",
    "        CALLS.append(f\"{level + 1}{strain}\")\n"
   ]
  },
  {
   "cell_type": "code",
   "execution_count": null,
   "id": "b0302835-43a2-4d90-8006-000b308bbd73",
   "metadata": {},
   "outputs": [],
   "source": []
  }
 ],
 "metadata": {
  "kernelspec": {
   "display_name": "Python 3.8 - Spark (local)",
   "language": "python",
   "name": "spark-3-python"
  },
  "language_info": {
   "codemirror_mode": {
    "name": "ipython",
    "version": 3
   },
   "file_extension": ".py",
   "mimetype": "text/x-python",
   "name": "python",
   "nbconvert_exporter": "python",
   "pygments_lexer": "ipython3",
   "version": "3.8.13"
  }
 },
 "nbformat": 4,
 "nbformat_minor": 5
}
