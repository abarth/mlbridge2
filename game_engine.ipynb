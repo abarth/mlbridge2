{
 "cells": [
  {
   "cell_type": "code",
   "execution_count": 30,
   "id": "23a58f06-9e41-4fc2-b7ef-f2b2faed99a7",
   "metadata": {},
   "outputs": [],
   "source": [
    "SUITS = [ \"C\", \"D\", \"H\", \"S\" ]\n",
    "RANKS = [ \"2\", \"3\", \"4\", \"5\", \"6\", \"7\", \"8\", \"9\", \"T\", \"J\", \"Q\", \"K\", \"A\" ]\n",
    "CARDS = [ f\"{rank}{suit}\" for rank in RANKS for suit in SUITS ]\n",
    "\n",
    "STRAINS = SUITS + [ \"NT\" ]\n",
    "CALLS = [ \"P\", \"X\", \"XX\" ] + [ f\"{level + 1}{strain}\" for level in range(7) for strain in STRAINS ]\n",
    "\n",
    "POSITIONS = [ \"N\", \"S\", \"E\", \"W\" ]\n",
    "VULNERABILITIES = [ \"E-W\", \"N-S\", \"None\", \"Both\" ]"
   ]
  },
  {
   "cell_type": "code",
   "execution_count": 21,
   "id": "73a69894-e550-49bd-b6ff-b9c777066bdb",
   "metadata": {},
   "outputs": [],
   "source": [
    "def get_vulnerability_from_board_number(board_number):\n",
    "    board_number_to_vulnerability = {\n",
    "        0: 'E-W', # board 16\n",
    "        1: 'None',\n",
    "        2: 'N-S',\n",
    "        3: 'E-W',\n",
    "        4: 'Both',\n",
    "        5: 'N-S',\n",
    "        6: 'E-W',\n",
    "        7: 'Both',\n",
    "        8: 'None',\n",
    "        9: 'E-W',\n",
    "        10: 'Both',\n",
    "        11: 'None',\n",
    "        12: 'N-S',\n",
    "        13: 'Both',\n",
    "        14: 'None',\n",
    "        15: 'N-S',\n",
    "    }\n",
    "    return board_number_to_vulnerability[board_number % 16]\n"
   ]
  },
  {
   "cell_type": "code",
   "execution_count": 23,
   "id": "1c80a291-1d56-4965-97ff-578b376e574e",
   "metadata": {},
   "outputs": [],
   "source": [
    "def get_dealer_from_board_number(board_number):\n",
    "    return POSITIONS[(board_number + 3) % 4]"
   ]
  },
  {
   "cell_type": "code",
   "execution_count": 39,
   "id": "d6087c19-985b-4adf-8ddf-f0306988374e",
   "metadata": {},
   "outputs": [],
   "source": [
    "def get_hands_from_identifier(identifier):\n",
    "    hands = [[] for p in POSITIONS]\n",
    "    hexChars = '0123456789abcdef'\n",
    "    for charIndex, hexChar in enumerate(identifier):\n",
    "        hexIndex = hexChars.index(hexChar)\n",
    "        highHandIndex = hexIndex // 4\n",
    "        lowHandIndex = hexIndex - highHandIndex * 4\n",
    "        highCard = CARDS[charIndex * 2 + 0]\n",
    "        lowCard = CARDS[charIndex * 2 + 1]\n",
    "        hands[highHandIndex].append(highCard)\n",
    "        hands[lowHandIndex].append(lowCard)\n",
    "    return {POSITIONS[i]: hands[i] for i in range(len(hands))}"
   ]
  },
  {
   "cell_type": "code",
   "execution_count": 43,
   "id": "e004fbe5-5926-4611-8c80-d6ea97343603",
   "metadata": {},
   "outputs": [],
   "source": [
    "def get_board_from_identifier(identifier):\n",
    "    components = identifier.split(\"-\")\n",
    "    assert(len(components) == 2)\n",
    "    board_number_string, deal_identifier = components\n",
    "    board_number = int(board_number_string)\n",
    "    return {\n",
    "        \"dealer\": get_dealer_from_board_number(board_number),\n",
    "        \"vulnerability\": get_vulnerability_from_board_number(board_number),\n",
    "        \"hands\": get_hands_from_identifier(deal_identifier),\n",
    "    }\n"
   ]
  },
  {
   "cell_type": "code",
   "execution_count": 44,
   "id": "6dfbbecc-76a0-4cfe-83c7-c71b4089bf6b",
   "metadata": {},
   "outputs": [
    {
     "data": {
      "text/plain": [
       "{'dealer': 'W',\n",
       " 'vulnerability': 'Both',\n",
       " 'hands': {'N': ['3D',\n",
       "   '4H',\n",
       "   '4S',\n",
       "   '5S',\n",
       "   '6S',\n",
       "   '7D',\n",
       "   '7S',\n",
       "   '8C',\n",
       "   '8D',\n",
       "   '8H',\n",
       "   'TC',\n",
       "   'TD',\n",
       "   'TS'],\n",
       "  'S': ['3C',\n",
       "   '4C',\n",
       "   '5C',\n",
       "   '5D',\n",
       "   '9D',\n",
       "   'TH',\n",
       "   'JD',\n",
       "   'JH',\n",
       "   'QC',\n",
       "   'KC',\n",
       "   'AC',\n",
       "   'AD',\n",
       "   'AS'],\n",
       "  'E': ['2C',\n",
       "   '2H',\n",
       "   '2S',\n",
       "   '3H',\n",
       "   '5H',\n",
       "   '6D',\n",
       "   '7H',\n",
       "   '8S',\n",
       "   '9H',\n",
       "   'JC',\n",
       "   'JS',\n",
       "   'QH',\n",
       "   'KH'],\n",
       "  'W': ['2D',\n",
       "   '3S',\n",
       "   '4D',\n",
       "   '6C',\n",
       "   '6H',\n",
       "   '7C',\n",
       "   '9C',\n",
       "   '9S',\n",
       "   'QD',\n",
       "   'QS',\n",
       "   'KD',\n",
       "   'KS',\n",
       "   'AH']}}"
      ]
     },
     "execution_count": 44,
     "metadata": {},
     "output_type": "execute_result"
    }
   ],
   "source": [
    "get_board_from_identifier(\"4-ba4b7058ecc802db04967b7b5d\")"
   ]
  },
  {
   "cell_type": "code",
   "execution_count": null,
   "id": "86f2fe5c-3569-42f1-b319-30a025a59fd9",
   "metadata": {},
   "outputs": [],
   "source": []
  }
 ],
 "metadata": {
  "kernelspec": {
   "display_name": "Python 3.8 - Spark (local)",
   "language": "python",
   "name": "spark-3-python"
  },
  "language_info": {
   "codemirror_mode": {
    "name": "ipython",
    "version": 3
   },
   "file_extension": ".py",
   "mimetype": "text/x-python",
   "name": "python",
   "nbconvert_exporter": "python",
   "pygments_lexer": "ipython3",
   "version": "3.8.13"
  }
 },
 "nbformat": 4,
 "nbformat_minor": 5
}
