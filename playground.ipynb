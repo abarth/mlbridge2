{
 "cells": [
  {
   "cell_type": "code",
   "execution_count": 1,
   "id": "b18e8084-446a-4c06-8233-218c4f54fcbb",
   "metadata": {},
   "outputs": [],
   "source": [
    "import json\n",
    "import os\n",
    "import sys\n",
    "import torch\n",
    "from torch import nn\n",
    "from torch.utils.data import DataLoader\n",
    "\n",
    "from fastai.data.all import *\n",
    "from fastai.learner import *\n",
    "from fastai.optimizer import *\n",
    "from fastai.metrics import *\n",
    "from fastai.interpret import *\n",
    "\n",
    "from game_engine import *"
   ]
  },
  {
   "cell_type": "code",
   "execution_count": 2,
   "id": "e4360170-67a0-403c-a636-813bcad6a6c6",
   "metadata": {},
   "outputs": [],
   "source": [
    "#!conda install --yes --prefix {sys.prefix} -c fastchan fastai"
   ]
  },
  {
   "cell_type": "code",
   "execution_count": 3,
   "id": "3a030c59-cd1a-4faf-8174-cceb101aa8be",
   "metadata": {},
   "outputs": [],
   "source": [
    "def read_records(path):\n",
    "    with open(path) as f:\n",
    "        return json.load(f)\n",
    "\n",
    "def load_data(limit=None):\n",
    "    DATA_DIR = \"bidder-data\"\n",
    "    records = []\n",
    "    for filename in os.listdir(DATA_DIR):\n",
    "        if filename.endswith(\".json\"):\n",
    "            path = os.path.join(DATA_DIR, filename)\n",
    "            records.extend(read_records(path))\n",
    "        if limit is not None and len(records) > limit:\n",
    "            break\n",
    "    return records"
   ]
  },
  {
   "cell_type": "code",
   "execution_count": 4,
   "id": "dd35db36-451c-4d25-a257-b9b583b9165c",
   "metadata": {},
   "outputs": [
    {
     "data": {
      "text/plain": [
       "10500"
      ]
     },
     "execution_count": 4,
     "metadata": {},
     "output_type": "execute_result"
    }
   ],
   "source": [
    "ex = load_data(limit = 10000)\n",
    "len(ex)"
   ]
  },
  {
   "cell_type": "code",
   "execution_count": 12,
   "id": "63428f0e-d861-4896-8f6d-e9c3ae206535",
   "metadata": {},
   "outputs": [],
   "source": [
    "class FirstCallModel(nn.Module):\n",
    "    def __init__(self):\n",
    "        super(FirstCallModel, self).__init__()\n",
    "        embed_dims = 32\n",
    "        hidden_dims = 64\n",
    "        self.network = nn.Sequential(\n",
    "            nn.Linear(len(CARDS), embed_dims),\n",
    "            nn.ReLU(),\n",
    "            nn.Linear(embed_dims, hidden_dims),\n",
    "            nn.ReLU(),\n",
    "            nn.Linear(hidden_dims, len(CALLS)),\n",
    "        )\n",
    "\n",
    "    def forward(self, x):\n",
    "        return self.network(x)"
   ]
  },
  {
   "cell_type": "code",
   "execution_count": 13,
   "id": "607c5cf6-6d15-44c7-a844-35cb6e342fe8",
   "metadata": {},
   "outputs": [
    {
     "name": "stdout",
     "output_type": "stream",
     "text": [
      "FirstCallModel(\n",
      "  (network): Sequential(\n",
      "    (0): Linear(in_features=52, out_features=32, bias=True)\n",
      "    (1): ReLU()\n",
      "    (2): Linear(in_features=32, out_features=64, bias=True)\n",
      "    (3): ReLU()\n",
      "    (4): Linear(in_features=64, out_features=38, bias=True)\n",
      "  )\n",
      ")\n"
     ]
    }
   ],
   "source": [
    "model = FirstCallModel()\n",
    "print(model)"
   ]
  },
  {
   "cell_type": "code",
   "execution_count": 14,
   "id": "7fe8cf70-b524-4a9c-9299-5971c1cb58cd",
   "metadata": {},
   "outputs": [],
   "source": [
    "def get_x(record):\n",
    "    board = get_board_from_identifier(record[\"board\"])\n",
    "    dealer = board[\"dealer\"]\n",
    "    return board[\"hands\"][dealer]\n",
    "\n",
    "def get_y(record):\n",
    "    return record[\"calls\"][0]"
   ]
  },
  {
   "cell_type": "code",
   "execution_count": 15,
   "id": "4adb702a-2346-4962-b371-b57d1e1d2103",
   "metadata": {},
   "outputs": [],
   "source": [
    "calls = DataBlock(\n",
    "    (MultiCategoryBlock(vocab=CARDS), CategoryBlock(vocab=CALLS)),\n",
    "    splitter=RandomSplitter(valid_pct=0.2, seed=42),\n",
    "    get_x=get_x,\n",
    "    get_y=get_y)"
   ]
  },
  {
   "cell_type": "code",
   "execution_count": 16,
   "id": "a8eb1204-5f8e-40e1-87f0-6f0c27a3b808",
   "metadata": {},
   "outputs": [
    {
     "name": "stdout",
     "output_type": "stream",
     "text": [
      "6C;TC;KC;3D;TD;QD;AD;4H;8H;QH;2S;4S;JS\n",
      "5C;7C;TC;KC;5D;JD;QD;AD;2H;8H;QH;2S;AS\n",
      "2C;6C;8C;JC;QC;9D;TD;QD;KD;AD;2H;KH;8S\n",
      "2C;4C;6C;9C;TC;JC;7D;JD;2H;8H;3S;5S;JS\n",
      "P\n",
      "1N\n",
      "1D\n",
      "P\n"
     ]
    }
   ],
   "source": [
    "dls = calls.dataloaders(ex)\n",
    "\n",
    "dls.valid.show_batch(max_n=4, nrows=1)"
   ]
  },
  {
   "cell_type": "code",
   "execution_count": 23,
   "id": "912b7833-c61a-4c60-a7d7-4b15588f9658",
   "metadata": {},
   "outputs": [],
   "source": [
    "learn = Learner(dls, model, loss_func=CrossEntropyLossFlat(), metrics=accuracy)"
   ]
  },
  {
   "cell_type": "code",
   "execution_count": 24,
   "id": "18d4872f-d13e-4084-b6fd-00b94b375497",
   "metadata": {},
   "outputs": [
    {
     "name": "stdout",
     "output_type": "stream",
     "text": [
      "[0, 0.30785059928894043, 0.31195273995399475, 0.8871428370475769, '00:06']\n",
      "[1, 0.3044830858707428, 0.3158399164676666, 0.8895238041877747, '00:07']\n",
      "[2, 0.28620657324790955, 0.2956961989402771, 0.8876190185546875, '00:06']\n",
      "[3, 0.27962198853492737, 0.28526052832603455, 0.8966666460037231, '00:06']\n",
      "[4, 0.2730786204338074, 0.29114019870758057, 0.8899999856948853, '00:06']\n",
      "[5, 0.28293636441230774, 0.28194937109947205, 0.8904761672019958, '00:06']\n",
      "[6, 0.2651417553424835, 0.28510308265686035, 0.8857142925262451, '00:06']\n",
      "[7, 0.2592635750770569, 0.2771367132663727, 0.8976190686225891, '00:06']\n",
      "[8, 0.2550404369831085, 0.2666270136833191, 0.8971428275108337, '00:07']\n",
      "[9, 0.24958106875419617, 0.27550047636032104, 0.8942857384681702, '00:06']\n"
     ]
    }
   ],
   "source": [
    "learn.fit(10)"
   ]
  },
  {
   "cell_type": "code",
   "execution_count": null,
   "id": "0927f73a-e001-468c-83d0-82b04c79d701",
   "metadata": {},
   "outputs": [],
   "source": [
    "#get_board_from_identifier(\"6-6523f1878e3deb685418c8cbb5\")"
   ]
  },
  {
   "cell_type": "code",
   "execution_count": 25,
   "id": "6c0c7b1d-79ef-4b40-8478-3be2b1599b0d",
   "metadata": {},
   "outputs": [
    {
     "data": {
      "text/plain": [
       "('1H',\n",
       " TensorMultiCategory(2),\n",
       " TensorMultiCategory([5.0569e-02, 1.1625e-03, 8.0847e-01, 1.3979e-01, 3.4253e-08, 1.4969e-07,\n",
       "         3.8897e-12, 6.4868e-08, 8.0385e-06, 8.9395e-14, 7.6276e-11, 2.9659e-14,\n",
       "         1.8703e-10, 2.0775e-10, 5.7927e-19, 1.8504e-09, 3.3493e-15, 2.0638e-09,\n",
       "         4.1511e-10, 6.5685e-10, 1.7889e-09, 5.1221e-10, 5.3024e-10, 3.6880e-10,\n",
       "         2.8066e-09, 8.1370e-10, 7.6159e-10, 7.7340e-10, 2.2054e-10, 6.6506e-10,\n",
       "         2.4187e-10, 4.6417e-10, 6.4745e-10, 4.1299e-10, 3.7143e-10, 9.9636e-07,\n",
       "         3.6346e-10, 2.5795e-10]))"
      ]
     },
     "execution_count": 25,
     "metadata": {},
     "output_type": "execute_result"
    }
   ],
   "source": [
    "guess = learn.predict({\"board\": \"6-6523f1878e3deb685418c8cbb5\"})\n",
    "guess"
   ]
  },
  {
   "cell_type": "code",
   "execution_count": null,
   "id": "70b639c4-da16-46bd-9bbf-3c75b3a1538a",
   "metadata": {},
   "outputs": [],
   "source": [
    "#learn.export(\"100k-model.pkl\")\n",
    "#learn_rst = load_learner(\"100k-model.pkl\")\n",
    "#learn_rst.predict({\"board\": \"6-6523f1878e3deb685418c8cbb5\"})"
   ]
  },
  {
   "cell_type": "code",
   "execution_count": null,
   "id": "58272393-3a75-4f20-84ed-cebd94192ebb",
   "metadata": {},
   "outputs": [],
   "source": []
  }
 ],
 "metadata": {
  "kernelspec": {
   "display_name": "azureml_py38_PT_and_TF",
   "language": "python",
   "name": "conda-env-azureml_py38_PT_and_TF-py"
  },
  "language_info": {
   "codemirror_mode": {
    "name": "ipython",
    "version": 3
   },
   "file_extension": ".py",
   "mimetype": "text/x-python",
   "name": "python",
   "nbconvert_exporter": "python",
   "pygments_lexer": "ipython3",
   "version": "3.8.5"
  }
 },
 "nbformat": 4,
 "nbformat_minor": 5
}
