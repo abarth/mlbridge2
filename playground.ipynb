{
 "cells": [
  {
   "cell_type": "code",
   "execution_count": 1,
   "id": "b18e8084-446a-4c06-8233-218c4f54fcbb",
   "metadata": {},
   "outputs": [],
   "source": [
    "import json\n",
    "import os\n",
    "import sys\n",
    "import torch\n",
    "from torch import nn\n",
    "from torch.utils.data import DataLoader\n",
    "\n",
    "from fastai.data.all import *\n",
    "from fastai.learner import *\n",
    "from fastai.optimizer import *\n",
    "from fastai.metrics import *\n",
    "from fastai.interpret import *\n",
    "\n",
    "from game_engine import *"
   ]
  },
  {
   "cell_type": "code",
   "execution_count": 2,
   "id": "e4360170-67a0-403c-a636-813bcad6a6c6",
   "metadata": {},
   "outputs": [],
   "source": [
    "#!conda install --yes --prefix {sys.prefix} -c fastchan fastai"
   ]
  },
  {
   "cell_type": "code",
   "execution_count": 3,
   "id": "3a030c59-cd1a-4faf-8174-cceb101aa8be",
   "metadata": {},
   "outputs": [],
   "source": [
    "def read_records(path):\n",
    "    with open(path) as f:\n",
    "        return json.load(f)\n",
    "\n",
    "def load_data(limit=None):\n",
    "    DATA_DIR = \"bidder-data\"\n",
    "    records = []\n",
    "    for filename in os.listdir(DATA_DIR):\n",
    "        if filename.endswith(\".json\"):\n",
    "            path = os.path.join(DATA_DIR, filename)\n",
    "            records.extend(read_records(path))\n",
    "        if limit is not None and len(records) > limit:\n",
    "            break\n",
    "    return records"
   ]
  },
  {
   "cell_type": "code",
   "execution_count": 14,
   "id": "dd35db36-451c-4d25-a257-b9b583b9165c",
   "metadata": {},
   "outputs": [
    {
     "data": {
      "text/plain": [
       "100500"
      ]
     },
     "execution_count": 14,
     "metadata": {},
     "output_type": "execute_result"
    }
   ],
   "source": [
    "ex = load_data(limit = 100000)\n",
    "len(ex)"
   ]
  },
  {
   "cell_type": "code",
   "execution_count": 5,
   "id": "63428f0e-d861-4896-8f6d-e9c3ae206535",
   "metadata": {},
   "outputs": [],
   "source": [
    "class FirstCallModel(nn.Module):\n",
    "    def __init__(self):\n",
    "        super(FirstCallModel, self).__init__()\n",
    "        embed_dims = 32\n",
    "        hidden_dims = 64\n",
    "        self.network = nn.Sequential(\n",
    "            nn.Linear(len(CARDS), embed_dims),\n",
    "            nn.ReLU(),\n",
    "            nn.Linear(embed_dims, hidden_dims),\n",
    "            nn.ReLU(),\n",
    "            nn.Linear(hidden_dims, len(CALLS)),\n",
    "        )\n",
    "\n",
    "    def forward(self, x):\n",
    "        return self.network(x)\n"
   ]
  },
  {
   "cell_type": "code",
   "execution_count": 6,
   "id": "607c5cf6-6d15-44c7-a844-35cb6e342fe8",
   "metadata": {},
   "outputs": [
    {
     "name": "stdout",
     "output_type": "stream",
     "text": [
      "FirstCallModel(\n",
      "  (network): Sequential(\n",
      "    (0): Linear(in_features=52, out_features=32, bias=True)\n",
      "    (1): ReLU()\n",
      "    (2): Linear(in_features=32, out_features=64, bias=True)\n",
      "    (3): ReLU()\n",
      "    (4): Linear(in_features=64, out_features=38, bias=True)\n",
      "  )\n",
      ")\n"
     ]
    }
   ],
   "source": [
    "model = FirstCallModel()\n",
    "print(model)"
   ]
  },
  {
   "cell_type": "code",
   "execution_count": 7,
   "id": "7fe8cf70-b524-4a9c-9299-5971c1cb58cd",
   "metadata": {},
   "outputs": [],
   "source": [
    "def get_x(record):\n",
    "    board = get_board_from_identifier(record[\"board\"])\n",
    "    dealer = board[\"dealer\"]\n",
    "    return board[\"hands\"][dealer]\n",
    "\n",
    "def get_y(record):\n",
    "    return record[\"calls\"][0]"
   ]
  },
  {
   "cell_type": "code",
   "execution_count": 8,
   "id": "4adb702a-2346-4962-b371-b57d1e1d2103",
   "metadata": {},
   "outputs": [],
   "source": [
    "calls = DataBlock(\n",
    "    (MultiCategoryBlock(vocab=CARDS), CategoryBlock(vocab=CALLS)),\n",
    "    splitter=RandomSplitter(valid_pct=0.2, seed=42),\n",
    "    get_x=get_x,\n",
    "    get_y=get_y)"
   ]
  },
  {
   "cell_type": "code",
   "execution_count": 15,
   "id": "a8eb1204-5f8e-40e1-87f0-6f0c27a3b808",
   "metadata": {},
   "outputs": [
    {
     "name": "stdout",
     "output_type": "stream",
     "text": [
      "3C;6C;TC;JC;QC;QD;KD;3H;6H;8H;JH;KH;KS\n",
      "3C;4C;2D;3D;5D;9D;QD;KD;6H;9H;AH;7S;TS\n",
      "4C;5C;7C;JC;QC;2D;6D;3H;9H;5S;7S;9S;TS\n",
      "2C;TC;KC;6D;9D;JD;KD;2H;3H;7H;TH;QH;AH\n",
      "1H\n",
      "2D\n",
      "P\n",
      "1H\n"
     ]
    }
   ],
   "source": [
    "dls = calls.dataloaders(ex)\n",
    "\n",
    "dls.valid.show_batch(max_n=4, nrows=1)"
   ]
  },
  {
   "cell_type": "code",
   "execution_count": 16,
   "id": "912b7833-c61a-4c60-a7d7-4b15588f9658",
   "metadata": {},
   "outputs": [],
   "source": [
    "learn = Learner(dls, model, loss_func=nn.CrossEntropyLoss(), metrics=accuracy)"
   ]
  },
  {
   "cell_type": "code",
   "execution_count": 17,
   "id": "18d4872f-d13e-4084-b6fd-00b94b375497",
   "metadata": {},
   "outputs": [
    {
     "name": "stdout",
     "output_type": "stream",
     "text": [
      "[0, 0.2778310775756836, 0.2710099220275879, 0.8975622057914734, '01:03']\n",
      "[1, 0.22101768851280212, 0.21754609048366547, 0.9166169166564941, '01:03']\n",
      "[2, 0.18657149374485016, 0.1818346530199051, 0.9300000071525574, '01:02']\n",
      "[3, 0.1503184586763382, 0.15930134057998657, 0.9388059973716736, '01:02']\n",
      "[4, 0.13299152255058289, 0.13315653800964355, 0.9504975080490112, '01:02']\n",
      "[5, 0.11138908565044403, 0.11270098388195038, 0.9613930583000183, '01:02']\n",
      "[6, 0.10721228271722794, 0.09883623570203781, 0.9684079885482788, '01:03']\n",
      "[7, 0.0919075757265091, 0.08849112689495087, 0.9706467390060425, '01:02']\n",
      "[8, 0.07605760544538498, 0.08215095102787018, 0.9722885489463806, '01:03']\n",
      "[9, 0.07031102478504181, 0.07381175458431244, 0.977661669254303, '01:03']\n"
     ]
    }
   ],
   "source": [
    "learn.fit(10)"
   ]
  },
  {
   "cell_type": "code",
   "execution_count": 12,
   "id": "0927f73a-e001-468c-83d0-82b04c79d701",
   "metadata": {},
   "outputs": [
    {
     "data": {
      "text/plain": [
       "{'dealer': 'E',\n",
       " 'vulnerability': 'E-W',\n",
       " 'hands': {'N': ['6C',\n",
       "   '8C',\n",
       "   'QC',\n",
       "   '2D',\n",
       "   '6D',\n",
       "   '9D',\n",
       "   '7H',\n",
       "   'JH',\n",
       "   'QH',\n",
       "   '2S',\n",
       "   '4S',\n",
       "   '6S',\n",
       "   '8S'],\n",
       "  'E': ['2C',\n",
       "   '4C',\n",
       "   '5C',\n",
       "   'KC',\n",
       "   '3D',\n",
       "   'QD',\n",
       "   '4H',\n",
       "   '8H',\n",
       "   '9H',\n",
       "   'TH',\n",
       "   'KH',\n",
       "   'KS',\n",
       "   'AS'],\n",
       "  'S': ['3C',\n",
       "   '7C',\n",
       "   'AC',\n",
       "   '5D',\n",
       "   '8D',\n",
       "   'AD',\n",
       "   '2H',\n",
       "   '5H',\n",
       "   '6H',\n",
       "   'AH',\n",
       "   '5S',\n",
       "   '9S',\n",
       "   'JS'],\n",
       "  'W': ['9C',\n",
       "   'TC',\n",
       "   'JC',\n",
       "   '4D',\n",
       "   '7D',\n",
       "   'TD',\n",
       "   'JD',\n",
       "   'KD',\n",
       "   '3H',\n",
       "   '3S',\n",
       "   '7S',\n",
       "   'TS',\n",
       "   'QS']}}"
      ]
     },
     "execution_count": 12,
     "metadata": {},
     "output_type": "execute_result"
    }
   ],
   "source": [
    "get_board_from_identifier(\"6-6523f1878e3deb685418c8cbb5\")"
   ]
  },
  {
   "cell_type": "code",
   "execution_count": 13,
   "id": "6c0c7b1d-79ef-4b40-8478-3be2b1599b0d",
   "metadata": {},
   "outputs": [
    {
     "data": {
      "text/plain": [
       "(\"['1S', '1C', '2H', '1N', '7D', 'P', '6D', '7N', 'X', '5H', '6N', '5H', '7S', '6C', '4S', '6S', '5N', 'P', '6D', '6D', '6D', '6C', '6D', '6C', '6D', '6D', '6C', '6C', '6C', '6D', '6D', '6D', '6D', '6D', '6H', '7S', '6C', '6C']\",\n",
       " TensorMultiCategory([  4.0435,   0.3618,   7.1648,   3.9504,  -7.0264,  -3.1271, -12.9049,\n",
       "          -5.5908,  -2.4590, -16.0952, -10.6255, -16.3810,  -4.2499, -13.6865,\n",
       "         -19.6547,  -9.3776, -15.4376,  -3.8003, -12.4712, -12.4213, -12.9135,\n",
       "         -13.2232, -12.4455, -13.1009, -12.8377, -12.5504, -13.1488, -13.1714,\n",
       "         -13.3027, -12.0333, -12.8069, -12.0041, -12.2694, -12.5018, -11.8812,\n",
       "          -4.7238, -13.3926, -13.0429]),\n",
       " TensorMultiCategory([  4.0435,   0.3618,   7.1648,   3.9504,  -7.0264,  -3.1271, -12.9049,\n",
       "          -5.5908,  -2.4590, -16.0952, -10.6255, -16.3810,  -4.2499, -13.6865,\n",
       "         -19.6547,  -9.3776, -15.4376,  -3.8003, -12.4712, -12.4213, -12.9135,\n",
       "         -13.2232, -12.4455, -13.1009, -12.8377, -12.5504, -13.1488, -13.1714,\n",
       "         -13.3027, -12.0333, -12.8069, -12.0041, -12.2694, -12.5018, -11.8812,\n",
       "          -4.7238, -13.3926, -13.0429]))"
      ]
     },
     "execution_count": 13,
     "metadata": {},
     "output_type": "execute_result"
    }
   ],
   "source": [
    "guess = learn.predict({\"board\": \"6-6523f1878e3deb685418c8cbb5\"})\n",
    "guess"
   ]
  },
  {
   "cell_type": "code",
   "execution_count": 19,
   "id": "d0f08394-02c4-4d4b-8c83-cd75c26763ff",
   "metadata": {},
   "outputs": [],
   "source": [
    "#learn.export(\"100k-model.pkl\")"
   ]
  },
  {
   "cell_type": "code",
   "execution_count": null,
   "id": "9b8148e8-8abb-42c6-91d7-8844901881f2",
   "metadata": {},
   "outputs": [],
   "source": []
  }
 ],
 "metadata": {
  "kernelspec": {
   "display_name": "azureml_py38_PT_and_TF",
   "language": "python",
   "name": "conda-env-azureml_py38_PT_and_TF-py"
  },
  "language_info": {
   "codemirror_mode": {
    "name": "ipython",
    "version": 3
   },
   "file_extension": ".py",
   "mimetype": "text/x-python",
   "name": "python",
   "nbconvert_exporter": "python",
   "pygments_lexer": "ipython3",
   "version": "3.8.5"
  }
 },
 "nbformat": 4,
 "nbformat_minor": 5
}
