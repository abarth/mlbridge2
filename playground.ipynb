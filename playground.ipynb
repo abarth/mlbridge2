{
 "cells": [
  {
   "cell_type": "code",
   "execution_count": 1,
   "id": "ebc93f1e-2078-401b-855f-1a74d0dc47f0",
   "metadata": {},
   "outputs": [],
   "source": [
    "import torch\n",
    "from torch import nn\n",
    "from torch.utils.data import DataLoader"
   ]
  },
  {
   "cell_type": "code",
   "execution_count": 2,
   "id": "7c5a930a-d01c-4509-be93-ba541bdd538f",
   "metadata": {},
   "outputs": [],
   "source": [
    "import json"
   ]
  },
  {
   "cell_type": "code",
   "execution_count": 3,
   "id": "23f18e8f-9eba-41ac-a294-bd34ce9e9f90",
   "metadata": {},
   "outputs": [],
   "source": [
    "with open(\"bidder-data/data152.json\") as f:\n",
    "    ex = json.load(f)\n"
   ]
  },
  {
   "cell_type": "code",
   "execution_count": 4,
   "id": "0c711ffb-6e74-4e3f-90dd-46759a2abb76",
   "metadata": {},
   "outputs": [
    {
     "data": {
      "text/plain": [
       "[{'rules': ['DefaultPass',\n",
       "   'OneLevelSuitOpening',\n",
       "   'OneLevelTakeoutDouble',\n",
       "   'DefaultPass',\n",
       "   'SuitResponseToTakeoutDouble',\n",
       "   'UnforcedRebidOriginalSuitByOpener',\n",
       "   'LawOfTotalTricks',\n",
       "   'DefaultPass',\n",
       "   'LawOfTotalTricks',\n",
       "   'DefaultPass',\n",
       "   'DefaultPass',\n",
       "   'DefaultPass'],\n",
       "  'board': '4-ba4b7058ecc802db04967b7b5d',\n",
       "  'calls': ['P', '1D', 'X', 'P', '1S', '2D', '2S', 'P', '4S', 'P', 'P', 'P']},\n",
       " {'rules': ['DefaultPass',\n",
       "   'OneLevelSuitOpening',\n",
       "   'DefaultPass',\n",
       "   'OneLevelNewSuitResponse',\n",
       "   'DefaultPass',\n",
       "   'RebidOneNotrumpByOpener',\n",
       "   'DefaultPass',\n",
       "   'NaturalNotrump',\n",
       "   'DefaultPass',\n",
       "   'DefaultPass',\n",
       "   'DefaultPass'],\n",
       "  'board': '12-5ca2c074df721394da2eb47e29',\n",
       "  'calls': ['P', '1C', 'P', '1S', 'P', '1N', 'P', '2N', 'P', 'P', 'P']},\n",
       " {'rules': ['OneLevelSuitOpening',\n",
       "   'DefaultPass',\n",
       "   'OneLevelNewSuitResponse',\n",
       "   'DefaultPass',\n",
       "   'NewSuitByOpener',\n",
       "   'DefaultPass',\n",
       "   'ThreeLevelSuitRebidByResponder',\n",
       "   'DefaultPass',\n",
       "   'NaturalNotrump',\n",
       "   'DefaultPass',\n",
       "   'NaturalSuited',\n",
       "   'DefaultPass',\n",
       "   'SuitSlamIsRemote',\n",
       "   'DefaultPass'],\n",
       "  'board': '16-c06f7d52e828178f0afe55886d',\n",
       "  'calls': ['1H',\n",
       "   'P',\n",
       "   '1S',\n",
       "   'P',\n",
       "   '2C',\n",
       "   'P',\n",
       "   '3S',\n",
       "   'P',\n",
       "   '3N',\n",
       "   'P',\n",
       "   '5C',\n",
       "   'P',\n",
       "   'P',\n",
       "   'P']}]"
      ]
     },
     "execution_count": 4,
     "metadata": {},
     "output_type": "execute_result"
    }
   ],
   "source": [
    "ex[:3]"
   ]
  },
  {
   "cell_type": "code",
   "execution_count": 6,
   "id": "9c09f3c5-6c43-46b1-aea5-7fd088f1a830",
   "metadata": {},
   "outputs": [],
   "source": [
    "import game_engine"
   ]
  },
  {
   "cell_type": "code",
   "execution_count": null,
   "id": "1ab8f528-b8ad-48d6-b648-dd79eba391db",
   "metadata": {},
   "outputs": [],
   "source": []
  }
 ],
 "metadata": {
  "kernelspec": {
   "display_name": "azureml_py38_PT_and_TF",
   "language": "python",
   "name": "conda-env-azureml_py38_PT_and_TF-py"
  },
  "language_info": {
   "codemirror_mode": {
    "name": "ipython",
    "version": 3
   },
   "file_extension": ".py",
   "mimetype": "text/x-python",
   "name": "python",
   "nbconvert_exporter": "python",
   "pygments_lexer": "ipython3",
   "version": "3.8.5"
  }
 },
 "nbformat": 4,
 "nbformat_minor": 5
}
