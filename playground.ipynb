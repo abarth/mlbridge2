{
 "cells": [
  {
   "cell_type": "code",
   "execution_count": 1,
   "id": "615144bd-4949-49b0-96a8-72ea339b5d7d",
   "metadata": {
    "tags": []
   },
   "outputs": [],
   "source": [
    "#import sys\n",
    "#!conda install --yes --prefix {sys.prefix} -c fastchan fastai"
   ]
  },
  {
   "cell_type": "code",
   "execution_count": 2,
   "id": "ebc93f1e-2078-401b-855f-1a74d0dc47f0",
   "metadata": {},
   "outputs": [],
   "source": [
    "import torch\n",
    "from torch import nn\n",
    "from torch.utils.data import DataLoader"
   ]
  },
  {
   "cell_type": "code",
   "execution_count": 3,
   "id": "7c5a930a-d01c-4509-be93-ba541bdd538f",
   "metadata": {},
   "outputs": [],
   "source": [
    "import json"
   ]
  },
  {
   "cell_type": "code",
   "execution_count": 4,
   "id": "23f18e8f-9eba-41ac-a294-bd34ce9e9f90",
   "metadata": {},
   "outputs": [],
   "source": [
    "with open(\"bidder-data/data152.json\") as f:\n",
    "    ex = json.load(f)"
   ]
  },
  {
   "cell_type": "code",
   "execution_count": 5,
   "id": "9c09f3c5-6c43-46b1-aea5-7fd088f1a830",
   "metadata": {},
   "outputs": [],
   "source": [
    "from game_engine import *"
   ]
  },
  {
   "cell_type": "code",
   "execution_count": 6,
   "id": "ed0e859f-1dde-46ea-b46b-817e2811b4dc",
   "metadata": {},
   "outputs": [],
   "source": [
    "def get_data_point(record):\n",
    "    board = get_board_from_identifier(record[\"board\"])\n",
    "    dealer = board[\"dealer\"]\n",
    "    return list(map(CARDS.index, board[\"hands\"][dealer])), CALLS.index(record[\"calls\"][0])"
   ]
  },
  {
   "cell_type": "code",
   "execution_count": 19,
   "id": "885299a2-aed0-4b46-8528-a8dbfb932727",
   "metadata": {},
   "outputs": [],
   "source": [
    "from fastai.data.all import *"
   ]
  },
  {
   "cell_type": "code",
   "execution_count": 7,
   "id": "aea89b63-f4d2-4edb-b2c6-e85155901e8b",
   "metadata": {},
   "outputs": [
    {
     "data": {
      "text/plain": [
       "([1, 7, 9, 16, 18, 20, 28, 31, 41, 43, 45, 47, 50], 0)"
      ]
     },
     "execution_count": 7,
     "metadata": {},
     "output_type": "execute_result"
    }
   ],
   "source": [
    "get_data_point(ex[0])"
   ]
  },
  {
   "cell_type": "code",
   "execution_count": 8,
   "id": "ff25b608-265a-469d-bdd6-d219d5c6b8ef",
   "metadata": {},
   "outputs": [],
   "source": [
    "ds = Datasets(ex, "
   ]
  },
  {
   "cell_type": "code",
   "execution_count": 9,
   "id": "b8a6ce42-0716-41f6-9c90-1c7d5428696c",
   "metadata": {},
   "outputs": [],
   "source": [
    "dl = DataLoader(ds, shuffle=True)"
   ]
  },
  {
   "cell_type": "code",
   "execution_count": 10,
   "id": "63428f0e-d861-4896-8f6d-e9c3ae206535",
   "metadata": {},
   "outputs": [],
   "source": [
    "class FirstCall(nn.Module):\n",
    "    def __init__(self):\n",
    "        super(FirstCall, self).__init__()\n",
    "        embed_dims = 16\n",
    "        hidden_count = 32\n",
    "        self.stack = nn.Sequential(\n",
    "            nn.EmbeddingBag(len(CARDS), embed_dims, mode=\"sum\"),\n",
    "            nn.Linear(embed_dims, hidden_count),\n",
    "            nn.ReLU(),\n",
    "            nn.Linear(hidden_count, len(CALLS)),\n",
    "        )\n",
    "\n",
    "    def forward(self, x):\n",
    "        logits = self.stack(x)\n",
    "        return logits"
   ]
  },
  {
   "cell_type": "code",
   "execution_count": 11,
   "id": "d6e155c5-ed86-40ea-a5e8-29329f1d3790",
   "metadata": {},
   "outputs": [],
   "source": [
    "model = FirstCall()"
   ]
  },
  {
   "cell_type": "code",
   "execution_count": 12,
   "id": "3117649d-f5bf-4ae6-8789-998e67e9d58a",
   "metadata": {},
   "outputs": [
    {
     "name": "stdout",
     "output_type": "stream",
     "text": [
      "FirstCall(\n",
      "  (stack): Sequential(\n",
      "    (0): EmbeddingBag(52, 16, mode=sum)\n",
      "    (1): Linear(in_features=16, out_features=32, bias=True)\n",
      "    (2): ReLU()\n",
      "    (3): Linear(in_features=32, out_features=38, bias=True)\n",
      "  )\n",
      ")\n"
     ]
    }
   ],
   "source": [
    "print(model)"
   ]
  },
  {
   "cell_type": "code",
   "execution_count": 13,
   "id": "ef3e587c-20fe-44b7-8114-4bbc2542aa62",
   "metadata": {},
   "outputs": [],
   "source": [
    "xs = torch.tensor([x for x, y in ds])"
   ]
  },
  {
   "cell_type": "code",
   "execution_count": 14,
   "id": "ae0b0084-b6f1-4986-90a6-3211023da237",
   "metadata": {},
   "outputs": [],
   "source": [
    "logits = model(xs)"
   ]
  },
  {
   "cell_type": "code",
   "execution_count": 15,
   "id": "f732b6a9-925f-48d0-88bc-a74ba6aeeed3",
   "metadata": {},
   "outputs": [
    {
     "data": {
      "text/plain": [
       "torch.Size([500, 38])"
      ]
     },
     "execution_count": 15,
     "metadata": {},
     "output_type": "execute_result"
    }
   ],
   "source": [
    "logits.shape"
   ]
  },
  {
   "cell_type": "code",
   "execution_count": 16,
   "id": "bdf6a877-7083-4b1d-adef-75218be0caf2",
   "metadata": {},
   "outputs": [
    {
     "data": {
      "text/plain": [
       "38"
      ]
     },
     "execution_count": 16,
     "metadata": {},
     "output_type": "execute_result"
    }
   ],
   "source": [
    "len(CALLS)"
   ]
  },
  {
   "cell_type": "code",
   "execution_count": 24,
   "id": "63a83090-42c0-4426-ac6f-c236b5be6a1f",
   "metadata": {},
   "outputs": [],
   "source": [
    "def get_x(record):\n",
    "    board = get_board_from_identifier(record[\"board\"])\n",
    "    dealer = board[\"dealer\"]\n",
    "    return board[\"hands\"][dealer]"
   ]
  },
  {
   "cell_type": "code",
   "execution_count": 23,
   "id": "3f39224f-d6d1-4dae-90be-bdf134289d55",
   "metadata": {},
   "outputs": [],
   "source": [
    "def get_y(record):\n",
    "    return record[\"calls\"][0]"
   ]
  },
  {
   "cell_type": "code",
   "execution_count": 36,
   "id": "4adb702a-2346-4962-b371-b57d1e1d2103",
   "metadata": {},
   "outputs": [],
   "source": [
    "calls = DataBlock(\n",
    "    (MultiCategoryBlock(vocab=CARDS), CategoryBlock(vocab=CALLS)),\n",
    "    splitter=RandomSplitter(valid_pct=0.2, seed=42),\n",
    "    get_x=get_x,\n",
    "    get_y=get_y)"
   ]
  },
  {
   "cell_type": "code",
   "execution_count": 37,
   "id": "7a4b0c7f-05e3-44c4-851d-5907ae2a59be",
   "metadata": {},
   "outputs": [],
   "source": [
    "dls = calls.dataloaders(ex)"
   ]
  },
  {
   "cell_type": "code",
   "execution_count": 38,
   "id": "06ad5755-f626-44e4-9ff9-d1f5ebf2c205",
   "metadata": {},
   "outputs": [
    {
     "name": "stdout",
     "output_type": "stream",
     "text": [
      "2C;4C;AC;2D;5D;8D;QD;4H;JH;QH;2S;4S;QS\n",
      "4C;KC;2D;5D;7D;9D;3H;4H;7H;AH;2S;QS;AS\n",
      "5C;6C;AC;3D;6D;8D;2H;7H;QH;5S;6S;TS;JS\n",
      "2C;6C;7C;9C;KC;2D;6D;JD;4H;6H;9H;3S;5S\n",
      "P\n",
      "1D\n",
      "P\n",
      "P\n"
     ]
    }
   ],
   "source": [
    "dls.valid.show_batch(max_n=4, nrows=1)"
   ]
  },
  {
   "cell_type": "code",
   "execution_count": null,
   "id": "912b7833-c61a-4c60-a7d7-4b15588f9658",
   "metadata": {},
   "outputs": [],
   "source": []
  }
 ],
 "metadata": {
  "kernelspec": {
   "display_name": "azureml_py38_PT_and_TF",
   "language": "python",
   "name": "conda-env-azureml_py38_PT_and_TF-py"
  },
  "language_info": {
   "codemirror_mode": {
    "name": "ipython",
    "version": 3
   },
   "file_extension": ".py",
   "mimetype": "text/x-python",
   "name": "python",
   "nbconvert_exporter": "python",
   "pygments_lexer": "ipython3",
   "version": "3.8.5"
  }
 },
 "nbformat": 4,
 "nbformat_minor": 5
}
