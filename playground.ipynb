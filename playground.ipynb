{
 "cells": [
  {
   "cell_type": "code",
   "execution_count": 1,
   "id": "b18e8084-446a-4c06-8233-218c4f54fcbb",
   "metadata": {},
   "outputs": [],
   "source": [
    "import json\n",
    "import os\n",
    "import sys\n",
    "import torch\n",
    "from torch import nn\n",
    "from torch.utils.data import DataLoader\n",
    "\n",
    "from fastai.data.all import *\n",
    "from fastai.learner import *\n",
    "from fastai.optimizer import *\n",
    "from fastai.metrics import *\n",
    "from fastai.interpret import *\n",
    "\n",
    "from game_engine import *"
   ]
  },
  {
   "cell_type": "code",
   "execution_count": 2,
   "id": "e4360170-67a0-403c-a636-813bcad6a6c6",
   "metadata": {},
   "outputs": [],
   "source": [
    "#!conda install --yes --prefix {sys.prefix} -c fastchan fastai"
   ]
  },
  {
   "cell_type": "code",
   "execution_count": 3,
   "id": "3a030c59-cd1a-4faf-8174-cceb101aa8be",
   "metadata": {},
   "outputs": [],
   "source": [
    "def read_records(path):\n",
    "    with open(path) as f:\n",
    "        return json.load(f)\n",
    "\n",
    "def load_data(limit=None):\n",
    "    DATA_DIR = \"bidder-data\"\n",
    "    records = []\n",
    "    for filename in os.listdir(DATA_DIR):\n",
    "        if filename.endswith(\".json\"):\n",
    "            path = os.path.join(DATA_DIR, filename)\n",
    "            records.extend(read_records(path))\n",
    "        if limit is not None and len(records) > limit:\n",
    "            break\n",
    "    return records"
   ]
  },
  {
   "cell_type": "code",
   "execution_count": 4,
   "id": "dd35db36-451c-4d25-a257-b9b583b9165c",
   "metadata": {},
   "outputs": [
    {
     "data": {
      "text/plain": [
       "100500"
      ]
     },
     "execution_count": 4,
     "metadata": {},
     "output_type": "execute_result"
    }
   ],
   "source": [
    "ex = load_data(limit = 100000)\n",
    "len(ex)"
   ]
  },
  {
   "cell_type": "code",
   "execution_count": 5,
   "id": "63428f0e-d861-4896-8f6d-e9c3ae206535",
   "metadata": {},
   "outputs": [],
   "source": [
    "class FirstCallModel(nn.Module):\n",
    "    def __init__(self):\n",
    "        super(FirstCallModel, self).__init__()\n",
    "        embed_dims = 32\n",
    "        hidden_dims = 64\n",
    "        self.network = nn.Sequential(\n",
    "            nn.Linear(len(CARDS), embed_dims),\n",
    "            nn.ReLU(),\n",
    "            nn.Linear(embed_dims, hidden_dims),\n",
    "            nn.ReLU(),\n",
    "            nn.Linear(hidden_dims, len(CALLS)),\n",
    "        )\n",
    "\n",
    "    def forward(self, x):\n",
    "        return self.network(x)"
   ]
  },
  {
   "cell_type": "code",
   "execution_count": 6,
   "id": "607c5cf6-6d15-44c7-a844-35cb6e342fe8",
   "metadata": {},
   "outputs": [
    {
     "name": "stdout",
     "output_type": "stream",
     "text": [
      "FirstCallModel(\n",
      "  (network): Sequential(\n",
      "    (0): Linear(in_features=52, out_features=32, bias=True)\n",
      "    (1): ReLU()\n",
      "    (2): Linear(in_features=32, out_features=64, bias=True)\n",
      "    (3): ReLU()\n",
      "    (4): Linear(in_features=64, out_features=38, bias=True)\n",
      "  )\n",
      ")\n"
     ]
    }
   ],
   "source": [
    "model = FirstCallModel()\n",
    "print(model)"
   ]
  },
  {
   "cell_type": "code",
   "execution_count": 7,
   "id": "7fe8cf70-b524-4a9c-9299-5971c1cb58cd",
   "metadata": {},
   "outputs": [],
   "source": [
    "def get_x(record):\n",
    "    board = get_board_from_identifier(record[\"board\"])\n",
    "    dealer = board[\"dealer\"]\n",
    "    return board[\"hands\"][dealer]\n",
    "\n",
    "def get_y(record):\n",
    "    return record[\"calls\"][0]"
   ]
  },
  {
   "cell_type": "code",
   "execution_count": 8,
   "id": "4adb702a-2346-4962-b371-b57d1e1d2103",
   "metadata": {},
   "outputs": [],
   "source": [
    "calls = DataBlock(\n",
    "    (MultiCategoryBlock(vocab=CARDS), CategoryBlock(vocab=CALLS)),\n",
    "    splitter=RandomSplitter(valid_pct=0.2, seed=42),\n",
    "    get_x=get_x,\n",
    "    get_y=get_y)"
   ]
  },
  {
   "cell_type": "code",
   "execution_count": 9,
   "id": "a8eb1204-5f8e-40e1-87f0-6f0c27a3b808",
   "metadata": {},
   "outputs": [
    {
     "name": "stdout",
     "output_type": "stream",
     "text": [
      "3C;6C;TC;JC;QC;QD;KD;3H;6H;8H;JH;KH;KS\n",
      "3C;4C;2D;3D;5D;9D;QD;KD;6H;9H;AH;7S;TS\n",
      "4C;5C;7C;JC;QC;2D;6D;3H;9H;5S;7S;9S;TS\n",
      "2C;TC;KC;6D;9D;JD;KD;2H;3H;7H;TH;QH;AH\n",
      "1H\n",
      "2D\n",
      "P\n",
      "1H\n"
     ]
    }
   ],
   "source": [
    "dls = calls.dataloaders(ex)\n",
    "\n",
    "dls.valid.show_batch(max_n=4, nrows=1)"
   ]
  },
  {
   "cell_type": "code",
   "execution_count": 10,
   "id": "912b7833-c61a-4c60-a7d7-4b15588f9658",
   "metadata": {},
   "outputs": [],
   "source": [
    "learn = Learner(dls, model, loss_func=CrossEntropyLossFlat(), metrics=accuracy)"
   ]
  },
  {
   "cell_type": "code",
   "execution_count": 11,
   "id": "18d4872f-d13e-4084-b6fd-00b94b375497",
   "metadata": {
    "tags": []
   },
   "outputs": [
    {
     "name": "stdout",
     "output_type": "stream",
     "text": [
      "[0, 0.3436969220638275, 0.3299921154975891, 0.8819900751113892, '01:04']\n",
      "[1, 0.2396089881658554, 0.2473532259464264, 0.9050248861312866, '01:04']\n",
      "[2, 0.2073841392993927, 0.19623896479606628, 0.9237313270568848, '01:04']\n",
      "[3, 0.1649974137544632, 0.15869030356407166, 0.9428855776786804, '01:03']\n",
      "[4, 0.14295418560504913, 0.13530460000038147, 0.9532338380813599, '01:04']\n",
      "[5, 0.11900314688682556, 0.11900375783443451, 0.9576616883277893, '01:03']\n",
      "[6, 0.09826595336198807, 0.1006813794374466, 0.9640796184539795, '01:03']\n",
      "[7, 0.08119724690914154, 0.08666863292455673, 0.9723383188247681, '01:04']\n",
      "[8, 0.07418646663427353, 0.07853342592716217, 0.9720398187637329, '01:03']\n",
      "[9, 0.06653723865747452, 0.06898316740989685, 0.9783582091331482, '01:04']\n"
     ]
    }
   ],
   "source": [
    "learn.fit(10)"
   ]
  },
  {
   "cell_type": "code",
   "execution_count": 12,
   "id": "0927f73a-e001-468c-83d0-82b04c79d701",
   "metadata": {},
   "outputs": [],
   "source": [
    "#get_board_from_identifier(\"6-6523f1878e3deb685418c8cbb5\")"
   ]
  },
  {
   "cell_type": "code",
   "execution_count": 13,
   "id": "6c0c7b1d-79ef-4b40-8478-3be2b1599b0d",
   "metadata": {},
   "outputs": [
    {
     "data": {
      "text/plain": [
       "('1N',\n",
       " TensorMultiCategory(3),\n",
       " TensorMultiCategory([2.7321e-02, 4.9154e-12, 2.2769e-09, 9.7265e-01, 2.8375e-05, 2.0464e-23,\n",
       "         1.8532e-33, 2.3831e-35, 7.2237e-12, 1.1544e-25, 5.7445e-26, 2.0987e-37,\n",
       "         9.4070e-38, 1.0991e-15, 4.5519e-35, 1.7990e-29, 0.0000e+00, 0.0000e+00,\n",
       "         1.1612e-15, 1.4531e-40, 6.5857e-16, 7.8899e-16, 5.4065e-16, 6.3280e-16,\n",
       "         1.8089e-15, 3.4075e-16, 1.8014e-15, 6.3265e-16, 8.6318e-16, 1.2617e-15,\n",
       "         1.9135e-15, 3.6701e-16, 8.4928e-16, 3.6255e-15, 1.2613e-15, 2.1113e-15,\n",
       "         2.0689e-15, 1.1817e-15]))"
      ]
     },
     "execution_count": 13,
     "metadata": {},
     "output_type": "execute_result"
    }
   ],
   "source": [
    "guess = learn.predict({\"board\": \"3-f1a4bd93c331ae44b672e5d209\"})\n",
    "guess"
   ]
  },
  {
   "cell_type": "code",
   "execution_count": 19,
   "id": "70b639c4-da16-46bd-9bbf-3c75b3a1538a",
   "metadata": {},
   "outputs": [],
   "source": [
    "#learn.export(\"100k-model.pkl\")\n",
    "#learn_rst = load_learner(\"100k-model.pkl\")\n",
    "#learn_rst.predict({\"board\": \"6-6523f1878e3deb685418c8cbb5\"})"
   ]
  },
  {
   "cell_type": "code",
   "execution_count": 15,
   "id": "58272393-3a75-4f20-84ed-cebd94192ebb",
   "metadata": {},
   "outputs": [],
   "source": [
    "interp = ClassificationInterpretation.from_learner(learn)"
   ]
  },
  {
   "cell_type": "code",
   "execution_count": 21,
   "id": "ca593c2e-8516-46f5-b596-2b876f436900",
   "metadata": {},
   "outputs": [],
   "source": [
    "bad = interp.top_losses(3, items=True)"
   ]
  },
  {
   "cell_type": "code",
   "execution_count": 31,
   "id": "199e15fb-bdcf-4ed5-aec0-90d1d914e534",
   "metadata": {},
   "outputs": [
    {
     "data": {
      "text/plain": [
       "{'rules': ['StrongTwoClubs',\n",
       "  'DefaultPass',\n",
       "  'NotrumpResponseToStrongTwoClubs',\n",
       "  'DefaultPass',\n",
       "  'None',\n",
       "  'DefaultPass'],\n",
       " 'board': '8-302a67ca590925fc81f523a5ff',\n",
       " 'calls': ['2C', 'P', '2N', 'P', 'P', 'P']}"
      ]
     },
     "execution_count": 31,
     "metadata": {},
     "output_type": "execute_result"
    }
   ],
   "source": [
    "bad[2][2]"
   ]
  },
  {
   "cell_type": "code",
   "execution_count": 32,
   "id": "3798c8fb-4196-45f7-a964-dad447492ed1",
   "metadata": {},
   "outputs": [
    {
     "data": {
      "text/plain": [
       "{'dealer': 'W',\n",
       " 'vulnerability': 'None',\n",
       " 'hands': {'N': ['2C',\n",
       "   '4C',\n",
       "   '5C',\n",
       "   '6C',\n",
       "   '2D',\n",
       "   '9D',\n",
       "   'TD',\n",
       "   'KD',\n",
       "   '7H',\n",
       "   '9H',\n",
       "   'TH',\n",
       "   '3S',\n",
       "   '5S'],\n",
       "  'E': ['TC',\n",
       "   'QC',\n",
       "   '5D',\n",
       "   '6D',\n",
       "   '8D',\n",
       "   'QD',\n",
       "   '2H',\n",
       "   '3H',\n",
       "   'JH',\n",
       "   'AH',\n",
       "   '2S',\n",
       "   '9S',\n",
       "   'TS'],\n",
       "  'S': ['7C',\n",
       "   '8C',\n",
       "   '9C',\n",
       "   'JC',\n",
       "   '3D',\n",
       "   '4D',\n",
       "   '7D',\n",
       "   'JD',\n",
       "   'AD',\n",
       "   '8H',\n",
       "   '4S',\n",
       "   '7S',\n",
       "   '8S'],\n",
       "  'W': ['3C',\n",
       "   'KC',\n",
       "   'AC',\n",
       "   '4H',\n",
       "   '5H',\n",
       "   '6H',\n",
       "   'QH',\n",
       "   'KH',\n",
       "   '6S',\n",
       "   'JS',\n",
       "   'QS',\n",
       "   'KS',\n",
       "   'AS']}}"
      ]
     },
     "execution_count": 32,
     "metadata": {},
     "output_type": "execute_result"
    }
   ],
   "source": [
    "get_board_from_identifier(\"8-302a67ca590925fc81f523a5ff\")"
   ]
  },
  {
   "cell_type": "code",
   "execution_count": 33,
   "id": "8acec001-56ef-4604-848d-37f57f43c9b4",
   "metadata": {},
   "outputs": [
    {
     "data": {
      "text/plain": [
       "('1S',\n",
       " TensorMultiCategory(4),\n",
       " TensorMultiCategory([2.9297e-03, 1.8323e-17, 1.5481e-02, 4.1887e-15, 9.7765e-01, 1.0642e-03,\n",
       "         0.0000e+00, 0.0000e+00, 2.8772e-03, 0.0000e+00, 0.0000e+00, 0.0000e+00,\n",
       "         0.0000e+00, 3.2340e-24, 0.0000e+00, 0.0000e+00, 0.0000e+00, 0.0000e+00,\n",
       "         1.1406e-24, 0.0000e+00, 4.8773e-25, 4.0415e-24, 5.9424e-25, 5.9681e-24,\n",
       "         1.1316e-24, 3.0965e-24, 3.2288e-25, 3.7973e-26, 1.9639e-25, 5.3251e-25,\n",
       "         1.3841e-24, 4.3719e-25, 7.9587e-24, 4.2739e-24, 4.2142e-25, 1.0466e-36,\n",
       "         1.2731e-24, 6.7557e-25]))"
      ]
     },
     "execution_count": 33,
     "metadata": {},
     "output_type": "execute_result"
    }
   ],
   "source": [
    "learn.predict({\"board\":\"8-302a67ca590925fc81f523a5ff\"})"
   ]
  },
  {
   "cell_type": "code",
   "execution_count": 17,
   "id": "ec21be38-b005-4b32-83f9-3dfccb3ee902",
   "metadata": {},
   "outputs": [
    {
     "data": {
      "text/plain": [
       "[('2S', 'P', 39),\n",
       " ('2D', 'P', 36),\n",
       " ('2H', 'P', 31),\n",
       " ('2C', '2N', 29),\n",
       " ('3C', 'P', 28),\n",
       " ('1D', '1N', 27),\n",
       " ('P', '1S', 16),\n",
       " ('P', '1C', 15),\n",
       " ('P', '3C', 15),\n",
       " ('3D', '2D', 14),\n",
       " ('1D', '2N', 13),\n",
       " ('2S', '1S', 11),\n",
       " ('1C', '2N', 10),\n",
       " ('1C', '1N', 9),\n",
       " ('4H', '3H', 9),\n",
       " ('P', '3S', 9),\n",
       " ('3H', '2H', 8),\n",
       " ('3H', 'P', 8),\n",
       " ('P', '1D', 8),\n",
       " ('P', '1H', 8),\n",
       " ('4C', '3C', 7),\n",
       " ('P', '2H', 7),\n",
       " ('4S', '3S', 6),\n",
       " ('1D', '3D', 5),\n",
       " ('1N', '1C', 5),\n",
       " ('1N', '1S', 5),\n",
       " ('1H', '3H', 4),\n",
       " ('4D', '3D', 4),\n",
       " ('P', '3H', 4),\n",
       " ('1H', '1S', 3),\n",
       " ('2C', '1H', 3),\n",
       " ('2C', '1S', 3),\n",
       " ('2N', '1S', 3),\n",
       " ('3C', '1C', 3),\n",
       " ('P', '2D', 3),\n",
       " ('P', '2S', 3),\n",
       " ('1C', '3C', 2),\n",
       " ('1C', 'P', 2),\n",
       " ('1S', '2N', 2),\n",
       " ('2N', '1C', 2),\n",
       " ('3D', '1D', 2),\n",
       " ('3D', 'P', 2),\n",
       " ('3H', '1H', 2),\n",
       " ('1D', '2D', 1),\n",
       " ('1H', '2N', 1),\n",
       " ('1H', 'P', 1),\n",
       " ('1N', '1H', 1),\n",
       " ('1S', '3S', 1),\n",
       " ('2N', '1H', 1),\n",
       " ('3S', '1S', 1),\n",
       " ('3S', 'P', 1),\n",
       " ('4C', 'P', 1),\n",
       " ('P', '3D', 1)]"
      ]
     },
     "execution_count": 17,
     "metadata": {},
     "output_type": "execute_result"
    }
   ],
   "source": [
    "interp.most_confused()"
   ]
  },
  {
   "cell_type": "code",
   "execution_count": null,
   "id": "291d12d7-7605-409f-94b8-9f511515fd72",
   "metadata": {},
   "outputs": [],
   "source": []
  }
 ],
 "metadata": {
  "kernelspec": {
   "display_name": "azureml_py38_PT_and_TF",
   "language": "python",
   "name": "conda-env-azureml_py38_PT_and_TF-py"
  },
  "language_info": {
   "codemirror_mode": {
    "name": "ipython",
    "version": 3
   },
   "file_extension": ".py",
   "mimetype": "text/x-python",
   "name": "python",
   "nbconvert_exporter": "python",
   "pygments_lexer": "ipython3",
   "version": "3.8.5"
  }
 },
 "nbformat": 4,
 "nbformat_minor": 5
}
