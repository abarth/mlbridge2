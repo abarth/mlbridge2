{
 "cells": [
  {
   "cell_type": "code",
   "execution_count": 1,
   "id": "615144bd-4949-49b0-96a8-72ea339b5d7d",
   "metadata": {
    "tags": []
   },
   "outputs": [],
   "source": [
    "#import sys\n",
    "#!conda install --yes --prefix {sys.prefix} -c fastchan fastai"
   ]
  },
  {
   "cell_type": "code",
   "execution_count": 1,
   "id": "ebc93f1e-2078-401b-855f-1a74d0dc47f0",
   "metadata": {},
   "outputs": [],
   "source": [
    "import torch\n",
    "from torch import nn\n",
    "from torch.utils.data import DataLoader"
   ]
  },
  {
   "cell_type": "code",
   "execution_count": 2,
   "id": "7c5a930a-d01c-4509-be93-ba541bdd538f",
   "metadata": {},
   "outputs": [],
   "source": [
    "import json\n",
    "import os"
   ]
  },
  {
   "cell_type": "code",
   "execution_count": 3,
   "id": "23f18e8f-9eba-41ac-a294-bd34ce9e9f90",
   "metadata": {},
   "outputs": [],
   "source": [
    "def read_records(path):\n",
    "    with open(path) as f:\n",
    "        return json.load(f)"
   ]
  },
  {
   "cell_type": "code",
   "execution_count": 5,
   "id": "0f74d58d-935e-4ade-84b6-059d63af26c9",
   "metadata": {},
   "outputs": [],
   "source": [
    "def load_data(limit=None):\n",
    "    DATA_DIR = \"bidder-data\"\n",
    "    records = []\n",
    "    for filename in os.listdir(DATA_DIR):\n",
    "        if filename.endswith(\".json\"):\n",
    "            path = os.path.join(DATA_DIR, filename)\n",
    "            records.extend(read_records(path))\n",
    "        if limit is not None and len(records) > limit:\n",
    "            break\n",
    "    return records"
   ]
  },
  {
   "cell_type": "code",
   "execution_count": 6,
   "id": "bf0b096f-3da2-460c-b2d6-913b44a3f702",
   "metadata": {},
   "outputs": [],
   "source": [
    "ex = load_data(limit = 10000)"
   ]
  },
  {
   "cell_type": "code",
   "execution_count": 7,
   "id": "075dc227-0ec2-4413-93c8-e29f474adba0",
   "metadata": {},
   "outputs": [
    {
     "data": {
      "text/plain": [
       "10500"
      ]
     },
     "execution_count": 7,
     "metadata": {},
     "output_type": "execute_result"
    }
   ],
   "source": [
    "len(ex)"
   ]
  },
  {
   "cell_type": "code",
   "execution_count": 8,
   "id": "9c09f3c5-6c43-46b1-aea5-7fd088f1a830",
   "metadata": {},
   "outputs": [],
   "source": [
    "from game_engine import *"
   ]
  },
  {
   "cell_type": "code",
   "execution_count": 9,
   "id": "885299a2-aed0-4b46-8528-a8dbfb932727",
   "metadata": {},
   "outputs": [],
   "source": [
    "from fastai.data.all import *\n",
    "from fastai.learner import *\n",
    "from fastai.optimizer import *\n",
    "from fastai.metrics import *"
   ]
  },
  {
   "cell_type": "code",
   "execution_count": 10,
   "id": "63428f0e-d861-4896-8f6d-e9c3ae206535",
   "metadata": {},
   "outputs": [],
   "source": [
    "class FirstCallModel(nn.Module):\n",
    "    def __init__(self):\n",
    "        super(FirstCallModel, self).__init__()\n",
    "        embed_dims = 64\n",
    "        hidden_dims = 64\n",
    "        self.stack = nn.Sequential(\n",
    "            nn.Linear(len(CARDS), embed_dims),\n",
    "            nn.ReLU(),\n",
    "            nn.Linear(embed_dims, hidden_dims),\n",
    "            nn.ReLU(),\n",
    "            nn.Linear(hidden_dims, len(CALLS)),\n",
    "        )\n",
    "\n",
    "    def forward(self, x):\n",
    "        logits = self.stack(x)\n",
    "        return logits"
   ]
  },
  {
   "cell_type": "code",
   "execution_count": 11,
   "id": "d6e155c5-ed86-40ea-a5e8-29329f1d3790",
   "metadata": {},
   "outputs": [],
   "source": [
    "model = FirstCallModel()"
   ]
  },
  {
   "cell_type": "code",
   "execution_count": 12,
   "id": "3117649d-f5bf-4ae6-8789-998e67e9d58a",
   "metadata": {},
   "outputs": [
    {
     "name": "stdout",
     "output_type": "stream",
     "text": [
      "FirstCallModel(\n",
      "  (stack): Sequential(\n",
      "    (0): Linear(in_features=52, out_features=64, bias=True)\n",
      "    (1): ReLU()\n",
      "    (2): Linear(in_features=64, out_features=64, bias=True)\n",
      "    (3): ReLU()\n",
      "    (4): Linear(in_features=64, out_features=38, bias=True)\n",
      "  )\n",
      ")\n"
     ]
    }
   ],
   "source": [
    "print(model)"
   ]
  },
  {
   "cell_type": "code",
   "execution_count": 13,
   "id": "63a83090-42c0-4426-ac6f-c236b5be6a1f",
   "metadata": {},
   "outputs": [],
   "source": [
    "def get_x(record):\n",
    "    board = get_board_from_identifier(record[\"board\"])\n",
    "    dealer = board[\"dealer\"]\n",
    "    return board[\"hands\"][dealer]"
   ]
  },
  {
   "cell_type": "code",
   "execution_count": 14,
   "id": "3f39224f-d6d1-4dae-90be-bdf134289d55",
   "metadata": {},
   "outputs": [],
   "source": [
    "def get_y(record):\n",
    "    return record[\"calls\"][0]"
   ]
  },
  {
   "cell_type": "code",
   "execution_count": 15,
   "id": "4adb702a-2346-4962-b371-b57d1e1d2103",
   "metadata": {},
   "outputs": [],
   "source": [
    "calls = DataBlock(\n",
    "    (MultiCategoryBlock(vocab=CARDS), CategoryBlock(vocab=CALLS)),\n",
    "    splitter=RandomSplitter(valid_pct=0.2, seed=42),\n",
    "    get_x=get_x,\n",
    "    get_y=get_y)"
   ]
  },
  {
   "cell_type": "code",
   "execution_count": 16,
   "id": "7a4b0c7f-05e3-44c4-851d-5907ae2a59be",
   "metadata": {},
   "outputs": [],
   "source": [
    "dls = calls.dataloaders(ex)"
   ]
  },
  {
   "cell_type": "code",
   "execution_count": 17,
   "id": "06ad5755-f626-44e4-9ff9-d1f5ebf2c205",
   "metadata": {},
   "outputs": [
    {
     "name": "stdout",
     "output_type": "stream",
     "text": [
      "6C;TC;KC;3D;TD;QD;AD;4H;8H;QH;2S;4S;JS\n",
      "5C;7C;TC;KC;5D;JD;QD;AD;2H;8H;QH;2S;AS\n",
      "2C;6C;8C;JC;QC;9D;TD;QD;KD;AD;2H;KH;8S\n",
      "2C;4C;6C;9C;TC;JC;7D;JD;2H;8H;3S;5S;JS\n",
      "P\n",
      "1N\n",
      "1D\n",
      "P\n"
     ]
    }
   ],
   "source": [
    "dls.valid.show_batch(max_n=4, nrows=1)"
   ]
  },
  {
   "cell_type": "code",
   "execution_count": 18,
   "id": "912b7833-c61a-4c60-a7d7-4b15588f9658",
   "metadata": {},
   "outputs": [],
   "source": [
    "learn = Learner(dls, model, loss_func=nn.CrossEntropyLoss(), metrics=accuracy)"
   ]
  },
  {
   "cell_type": "code",
   "execution_count": 19,
   "id": "18d4872f-d13e-4084-b6fd-00b94b375497",
   "metadata": {},
   "outputs": [
    {
     "name": "stdout",
     "output_type": "stream",
     "text": [
      "[0, 1.5828391313552856, 1.3902479410171509, 0.5533333420753479, '00:08']\n",
      "[1, 1.0506082773208618, 0.8968051075935364, 0.7433333396911621, '00:09']\n",
      "[2, 0.7192568182945251, 0.6471738815307617, 0.8114285469055176, '00:08']\n",
      "[3, 0.5653246641159058, 0.5014913082122803, 0.8628571629524231, '00:09']\n",
      "[4, 0.4592345356941223, 0.43888789415359497, 0.8557142615318298, '00:08']\n",
      "[5, 0.4077032506465912, 0.38646945357322693, 0.8761904835700989, '00:09']\n",
      "[6, 0.3714393675327301, 0.36285993456840515, 0.8704761862754822, '00:09']\n",
      "[7, 0.34942030906677246, 0.34484753012657166, 0.8723809719085693, '00:08']\n",
      "[8, 0.328656941652298, 0.3403625190258026, 0.8752381205558777, '00:08']\n",
      "[9, 0.3214888572692871, 0.317013680934906, 0.8899999856948853, '00:08']\n"
     ]
    }
   ],
   "source": [
    "learn.fit(10)"
   ]
  },
  {
   "cell_type": "code",
   "execution_count": null,
   "id": "f94dea6c-840b-47f5-a834-b70603672fa5",
   "metadata": {},
   "outputs": [],
   "source": []
  }
 ],
 "metadata": {
  "kernelspec": {
   "display_name": "azureml_py38_PT_and_TF",
   "language": "python",
   "name": "conda-env-azureml_py38_PT_and_TF-py"
  },
  "language_info": {
   "codemirror_mode": {
    "name": "ipython",
    "version": 3
   },
   "file_extension": ".py",
   "mimetype": "text/x-python",
   "name": "python",
   "nbconvert_exporter": "python",
   "pygments_lexer": "ipython3",
   "version": "3.8.5"
  }
 },
 "nbformat": 4,
 "nbformat_minor": 5
}
