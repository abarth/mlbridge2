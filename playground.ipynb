{
 "cells": [
  {
   "cell_type": "code",
   "execution_count": 6,
   "id": "b18e8084-446a-4c06-8233-218c4f54fcbb",
   "metadata": {},
   "outputs": [],
   "source": [
    "import json\n",
    "import os\n",
    "import sys\n",
    "import torch\n",
    "from torch import nn\n",
    "from torch.utils.data import DataLoader\n",
    "\n",
    "from fastai.data.all import *\n",
    "from fastai.learner import *\n",
    "from fastai.optimizer import *\n",
    "from fastai.metrics import *\n",
    "from fastai.interpret import *\n",
    "\n",
    "from game_engine import *"
   ]
  },
  {
   "cell_type": "code",
   "execution_count": 2,
   "id": "e4360170-67a0-403c-a636-813bcad6a6c6",
   "metadata": {},
   "outputs": [],
   "source": [
    "#!conda install --yes --prefix {sys.prefix} -c fastchan fastai"
   ]
  },
  {
   "cell_type": "code",
   "execution_count": 4,
   "id": "3a030c59-cd1a-4faf-8174-cceb101aa8be",
   "metadata": {},
   "outputs": [],
   "source": [
    "def read_records(path):\n",
    "    with open(path) as f:\n",
    "        return json.load(f)\n",
    "\n",
    "def load_data(limit=None):\n",
    "    DATA_DIR = \"bidder-data\"\n",
    "    records = []\n",
    "    for filename in os.listdir(DATA_DIR):\n",
    "        if filename.endswith(\".json\"):\n",
    "            path = os.path.join(DATA_DIR, filename)\n",
    "            records.extend(read_records(path))\n",
    "        if limit is not None and len(records) > limit:\n",
    "            break\n",
    "    return records"
   ]
  },
  {
   "cell_type": "code",
   "execution_count": 5,
   "id": "dd35db36-451c-4d25-a257-b9b583b9165c",
   "metadata": {},
   "outputs": [
    {
     "data": {
      "text/plain": [
       "10500"
      ]
     },
     "execution_count": 5,
     "metadata": {},
     "output_type": "execute_result"
    }
   ],
   "source": [
    "ex = load_data(limit = 10000)\n",
    "len(ex)"
   ]
  },
  {
   "cell_type": "code",
   "execution_count": 35,
   "id": "63428f0e-d861-4896-8f6d-e9c3ae206535",
   "metadata": {},
   "outputs": [],
   "source": [
    "class FirstCallModel(nn.Module):\n",
    "    def __init__(self):\n",
    "        super(FirstCallModel, self).__init__()\n",
    "        embed_dims = 64\n",
    "        hidden_dims = 64\n",
    "        # self.embed = nn.EmbeddingBag(len(CARDS), embed_dims)\n",
    "        self.stack = nn.Sequential(\n",
    "            nn.Linear(len(CARDS), hidden_dims),\n",
    "            nn.ReLU(),\n",
    "            nn.Linear(hidden_dims, len(CALLS)),\n",
    "        )\n",
    "\n",
    "    def forward(self, x):\n",
    "        # features = self.embed(x)\n",
    "        return self.stack(x)\n"
   ]
  },
  {
   "cell_type": "code",
   "execution_count": 36,
   "id": "607c5cf6-6d15-44c7-a844-35cb6e342fe8",
   "metadata": {},
   "outputs": [
    {
     "name": "stdout",
     "output_type": "stream",
     "text": [
      "FirstCallModel(\n",
      "  (stack): Sequential(\n",
      "    (0): Linear(in_features=52, out_features=64, bias=True)\n",
      "    (1): ReLU()\n",
      "    (2): Linear(in_features=64, out_features=38, bias=True)\n",
      "  )\n",
      ")\n"
     ]
    }
   ],
   "source": [
    "model = FirstCallModel()\n",
    "print(model)"
   ]
  },
  {
   "cell_type": "code",
   "execution_count": 37,
   "id": "7fe8cf70-b524-4a9c-9299-5971c1cb58cd",
   "metadata": {},
   "outputs": [],
   "source": [
    "def get_x(record):\n",
    "    board = get_board_from_identifier(record[\"board\"])\n",
    "    dealer = board[\"dealer\"]\n",
    "    return board[\"hands\"][dealer]\n",
    "\n",
    "def get_y(record):\n",
    "    return record[\"calls\"][0]"
   ]
  },
  {
   "cell_type": "code",
   "execution_count": 38,
   "id": "4adb702a-2346-4962-b371-b57d1e1d2103",
   "metadata": {},
   "outputs": [],
   "source": [
    "calls = DataBlock(\n",
    "    (MultiCategoryBlock(vocab=CARDS), CategoryBlock(vocab=CALLS)),\n",
    "    splitter=RandomSplitter(valid_pct=0.2, seed=42),\n",
    "    get_x=get_x,\n",
    "    get_y=get_y)"
   ]
  },
  {
   "cell_type": "code",
   "execution_count": 39,
   "id": "a8eb1204-5f8e-40e1-87f0-6f0c27a3b808",
   "metadata": {},
   "outputs": [
    {
     "name": "stdout",
     "output_type": "stream",
     "text": [
      "6C;TC;KC;3D;TD;QD;AD;4H;8H;QH;2S;4S;JS\n",
      "5C;7C;TC;KC;5D;JD;QD;AD;2H;8H;QH;2S;AS\n",
      "2C;6C;8C;JC;QC;9D;TD;QD;KD;AD;2H;KH;8S\n",
      "2C;4C;6C;9C;TC;JC;7D;JD;2H;8H;3S;5S;JS\n",
      "P\n",
      "1N\n",
      "1D\n",
      "P\n"
     ]
    }
   ],
   "source": [
    "dls = calls.dataloaders(ex)\n",
    "\n",
    "dls.valid.show_batch(max_n=4, nrows=1)"
   ]
  },
  {
   "cell_type": "code",
   "execution_count": 40,
   "id": "912b7833-c61a-4c60-a7d7-4b15588f9658",
   "metadata": {},
   "outputs": [],
   "source": [
    "learn = Learner(dls, model, loss_func=nn.CrossEntropyLoss(), metrics=accuracy)"
   ]
  },
  {
   "cell_type": "code",
   "execution_count": 41,
   "id": "18d4872f-d13e-4084-b6fd-00b94b375497",
   "metadata": {},
   "outputs": [
    {
     "name": "stdout",
     "output_type": "stream",
     "text": [
      "[0, 1.6102399826049805, 1.3720250129699707, 0.5533333420753479, '00:07']\n",
      "[1, 1.1104165315628052, 0.9801210165023804, 0.6819047331809998, '00:07']\n",
      "[2, 0.8262050151824951, 0.751828670501709, 0.7900000214576721, '00:07']\n",
      "[3, 0.6717875003814697, 0.6250484585762024, 0.8447619080543518, '00:08']\n",
      "[4, 0.5737388730049133, 0.5501239895820618, 0.8409523963928223, '00:07']\n",
      "[5, 0.511540412902832, 0.49650174379348755, 0.8547618985176086, '00:08']\n",
      "[6, 0.471888929605484, 0.4637906849384308, 0.8566666841506958, '00:07']\n",
      "[7, 0.44418567419052124, 0.434711754322052, 0.8666666746139526, '00:07']\n",
      "[8, 0.4098462760448456, 0.4091794788837433, 0.8709523677825928, '00:07']\n",
      "[9, 0.39280152320861816, 0.3977205157279968, 0.8633333444595337, '00:07']\n"
     ]
    }
   ],
   "source": [
    "learn.fit(10)"
   ]
  },
  {
   "cell_type": "code",
   "execution_count": 29,
   "id": "0927f73a-e001-468c-83d0-82b04c79d701",
   "metadata": {},
   "outputs": [
    {
     "data": {
      "text/plain": [
       "{'dealer': 'E',\n",
       " 'vulnerability': 'E-W',\n",
       " 'hands': {'N': ['6C',\n",
       "   '8C',\n",
       "   'QC',\n",
       "   '2D',\n",
       "   '6D',\n",
       "   '9D',\n",
       "   '7H',\n",
       "   'JH',\n",
       "   'QH',\n",
       "   '2S',\n",
       "   '4S',\n",
       "   '6S',\n",
       "   '8S'],\n",
       "  'E': ['2C',\n",
       "   '4C',\n",
       "   '5C',\n",
       "   'KC',\n",
       "   '3D',\n",
       "   'QD',\n",
       "   '4H',\n",
       "   '8H',\n",
       "   '9H',\n",
       "   'TH',\n",
       "   'KH',\n",
       "   'KS',\n",
       "   'AS'],\n",
       "  'S': ['3C',\n",
       "   '7C',\n",
       "   'AC',\n",
       "   '5D',\n",
       "   '8D',\n",
       "   'AD',\n",
       "   '2H',\n",
       "   '5H',\n",
       "   '6H',\n",
       "   'AH',\n",
       "   '5S',\n",
       "   '9S',\n",
       "   'JS'],\n",
       "  'W': ['9C',\n",
       "   'TC',\n",
       "   'JC',\n",
       "   '4D',\n",
       "   '7D',\n",
       "   'TD',\n",
       "   'JD',\n",
       "   'KD',\n",
       "   '3H',\n",
       "   '3S',\n",
       "   '7S',\n",
       "   'TS',\n",
       "   'QS']}}"
      ]
     },
     "execution_count": 29,
     "metadata": {},
     "output_type": "execute_result"
    }
   ],
   "source": [
    "get_board_from_identifier(\"6-6523f1878e3deb685418c8cbb5\")"
   ]
  },
  {
   "cell_type": "code",
   "execution_count": 42,
   "id": "42475041-19a2-4504-8f34-1bf0635cc490",
   "metadata": {},
   "outputs": [],
   "source": [
    "guess = learn.predict({\"board\": \"6-6523f1878e3deb685418c8cbb5\"})"
   ]
  },
  {
   "cell_type": "code",
   "execution_count": 43,
   "id": "bcb3febb-ae1d-41bb-b39a-2c676e530ee4",
   "metadata": {},
   "outputs": [
    {
     "data": {
      "text/plain": [
       "fastai.data.transforms.Category"
      ]
     },
     "execution_count": 43,
     "metadata": {},
     "output_type": "execute_result"
    }
   ],
   "source": [
    "type(guess[0])"
   ]
  },
  {
   "cell_type": "code",
   "execution_count": 44,
   "id": "248123cd-1bda-4f10-8761-32b3b2f137c7",
   "metadata": {},
   "outputs": [
    {
     "data": {
      "text/plain": [
       "(#2) [['2C', '3C', '4C', '5C', '6C', '7C', '8C', '9C', 'TC', 'JC', 'QC', 'KC', 'AC', '2D', '3D', '4D', '5D', '6D', '7D', '8D', '9D', 'TD', 'JD', 'QD', 'KD', 'AD', '2H', '3H', '4H', '5H', '6H', '7H', '8H', '9H', 'TH', 'JH', 'QH', 'KH', 'AH', '2S', '3S', '4S', '5S', '6S', '7S', '8S', '9S', 'TS', 'JS', 'QS', 'KS', 'AS'],['1C', '1D', '1H', '1N', '1S', '2C', '2D', '2H', '2N', '2S', '3C', '3D', '3H', '3N', '3S', '4C', '4D', '4H', '4N', '4S', '5C', '5D', '5H', '5N', '5S', '6C', '6D', '6H', '6N', '6S', '7C', '7D', '7H', '7N', '7S', 'P', 'X', 'XX']]"
      ]
     },
     "execution_count": 44,
     "metadata": {},
     "output_type": "execute_result"
    }
   ],
   "source": [
    "learn.dls.vocab"
   ]
  },
  {
   "cell_type": "code",
   "execution_count": 45,
   "id": "41262b35-1260-4043-9405-c57eb27670d7",
   "metadata": {},
   "outputs": [
    {
     "data": {
      "text/plain": [
       "(\"['1H', '1C', '1S', '1H', '7N', 'P', '7D', 'X', 'X', '6S', '7N', '6S', 'X', '6N', '6N', '7D', '7C', '7N', '6N', '6N', '6N', '6N', '6N', '6N', '6N', '6N', '6N', '6N', '6N', '6N', '6N', '6N', '6N', '6S', '6N', 'X', '6N', '6N']\",\n",
       " TensorMultiCategory([  2.9963,  -0.4025,   4.5483,   2.3362,  -5.2607,  -3.0720,  -7.0893,\n",
       "          -2.3715,  -2.3027,  -9.9483,  -5.9619,  -9.0173,  -2.3082, -10.4847,\n",
       "         -10.7180,  -7.1170,  -8.8305,  -5.0130, -10.3853, -10.1604, -10.6705,\n",
       "         -10.4270, -10.0458, -10.1629, -10.0986, -10.0894, -10.7580, -10.5821,\n",
       "         -10.2830, -10.0075, -10.4226, -10.0135, -10.3547,  -9.8596, -10.3355,\n",
       "          -2.0653, -10.3591, -10.3004]),\n",
       " TensorMultiCategory([  2.9963,  -0.4025,   4.5483,   2.3362,  -5.2607,  -3.0720,  -7.0893,\n",
       "          -2.3715,  -2.3027,  -9.9483,  -5.9619,  -9.0173,  -2.3082, -10.4847,\n",
       "         -10.7180,  -7.1170,  -8.8305,  -5.0130, -10.3853, -10.1604, -10.6705,\n",
       "         -10.4270, -10.0458, -10.1629, -10.0986, -10.0894, -10.7580, -10.5821,\n",
       "         -10.2830, -10.0075, -10.4226, -10.0135, -10.3547,  -9.8596, -10.3355,\n",
       "          -2.0653, -10.3591, -10.3004]))"
      ]
     },
     "execution_count": 45,
     "metadata": {},
     "output_type": "execute_result"
    }
   ],
   "source": [
    "guess"
   ]
  }
 ],
 "metadata": {
  "kernelspec": {
   "display_name": "azureml_py38_PT_and_TF",
   "language": "python",
   "name": "conda-env-azureml_py38_PT_and_TF-py"
  },
  "language_info": {
   "codemirror_mode": {
    "name": "ipython",
    "version": 3
   },
   "file_extension": ".py",
   "mimetype": "text/x-python",
   "name": "python",
   "nbconvert_exporter": "python",
   "pygments_lexer": "ipython3",
   "version": "3.8.5"
  }
 },
 "nbformat": 4,
 "nbformat_minor": 5
}
