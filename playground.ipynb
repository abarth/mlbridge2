{
 "cells": [
  {
   "cell_type": "code",
   "execution_count": 2,
   "id": "ebc93f1e-2078-401b-855f-1a74d0dc47f0",
   "metadata": {},
   "outputs": [],
   "source": [
    "import torch\n",
    "from torch import nn\n",
    "from torch.utils.data import DataLoader"
   ]
  },
  {
   "cell_type": "code",
   "execution_count": 3,
   "id": "7c5a930a-d01c-4509-be93-ba541bdd538f",
   "metadata": {},
   "outputs": [],
   "source": [
    "import json"
   ]
  },
  {
   "cell_type": "code",
   "execution_count": 4,
   "id": "23f18e8f-9eba-41ac-a294-bd34ce9e9f90",
   "metadata": {},
   "outputs": [],
   "source": [
    "with open(\"bidder-data/data152.json\") as f:\n",
    "    ex = json.load(f)\n"
   ]
  },
  {
   "cell_type": "code",
   "execution_count": 5,
   "id": "0c711ffb-6e74-4e3f-90dd-46759a2abb76",
   "metadata": {},
   "outputs": [
    {
     "data": {
      "text/plain": [
       "[{'rules': ['DefaultPass',\n",
       "   'OneLevelSuitOpening',\n",
       "   'OneLevelTakeoutDouble',\n",
       "   'DefaultPass',\n",
       "   'SuitResponseToTakeoutDouble',\n",
       "   'UnforcedRebidOriginalSuitByOpener',\n",
       "   'LawOfTotalTricks',\n",
       "   'DefaultPass',\n",
       "   'LawOfTotalTricks',\n",
       "   'DefaultPass',\n",
       "   'DefaultPass',\n",
       "   'DefaultPass'],\n",
       "  'board': '4-ba4b7058ecc802db04967b7b5d',\n",
       "  'calls': ['P', '1D', 'X', 'P', '1S', '2D', '2S', 'P', '4S', 'P', 'P', 'P']},\n",
       " {'rules': ['DefaultPass',\n",
       "   'OneLevelSuitOpening',\n",
       "   'DefaultPass',\n",
       "   'OneLevelNewSuitResponse',\n",
       "   'DefaultPass',\n",
       "   'RebidOneNotrumpByOpener',\n",
       "   'DefaultPass',\n",
       "   'NaturalNotrump',\n",
       "   'DefaultPass',\n",
       "   'DefaultPass',\n",
       "   'DefaultPass'],\n",
       "  'board': '12-5ca2c074df721394da2eb47e29',\n",
       "  'calls': ['P', '1C', 'P', '1S', 'P', '1N', 'P', '2N', 'P', 'P', 'P']},\n",
       " {'rules': ['OneLevelSuitOpening',\n",
       "   'DefaultPass',\n",
       "   'OneLevelNewSuitResponse',\n",
       "   'DefaultPass',\n",
       "   'NewSuitByOpener',\n",
       "   'DefaultPass',\n",
       "   'ThreeLevelSuitRebidByResponder',\n",
       "   'DefaultPass',\n",
       "   'NaturalNotrump',\n",
       "   'DefaultPass',\n",
       "   'NaturalSuited',\n",
       "   'DefaultPass',\n",
       "   'SuitSlamIsRemote',\n",
       "   'DefaultPass'],\n",
       "  'board': '16-c06f7d52e828178f0afe55886d',\n",
       "  'calls': ['1H',\n",
       "   'P',\n",
       "   '1S',\n",
       "   'P',\n",
       "   '2C',\n",
       "   'P',\n",
       "   '3S',\n",
       "   'P',\n",
       "   '3N',\n",
       "   'P',\n",
       "   '5C',\n",
       "   'P',\n",
       "   'P',\n",
       "   'P']}]"
      ]
     },
     "execution_count": 5,
     "metadata": {},
     "output_type": "execute_result"
    }
   ],
   "source": [
    "ex[:3]"
   ]
  },
  {
   "cell_type": "code",
   "execution_count": 6,
   "id": "9c09f3c5-6c43-46b1-aea5-7fd088f1a830",
   "metadata": {},
   "outputs": [],
   "source": [
    "from game_engine import *"
   ]
  },
  {
   "cell_type": "code",
   "execution_count": 7,
   "id": "1ab8f528-b8ad-48d6-b648-dd79eba391db",
   "metadata": {},
   "outputs": [
    {
     "data": {
      "text/plain": [
       "{'dealer': 'W',\n",
       " 'vulnerability': 'Both',\n",
       " 'hands': {'N': ['7C',\n",
       "   'QC',\n",
       "   'KC',\n",
       "   '4D',\n",
       "   '8D',\n",
       "   'TD',\n",
       "   'QD',\n",
       "   'KD',\n",
       "   'AD',\n",
       "   '2H',\n",
       "   '8H',\n",
       "   '9H',\n",
       "   'JH'],\n",
       "  'E': ['6C',\n",
       "   'TC',\n",
       "   'AC',\n",
       "   '2D',\n",
       "   '5H',\n",
       "   'TH',\n",
       "   'KH',\n",
       "   'AH',\n",
       "   '3S',\n",
       "   '7S',\n",
       "   'JS',\n",
       "   'QS',\n",
       "   'AS'],\n",
       "  'S': ['2C',\n",
       "   '4C',\n",
       "   '5C',\n",
       "   '8C',\n",
       "   '3D',\n",
       "   '6D',\n",
       "   'JD',\n",
       "   '3H',\n",
       "   '6H',\n",
       "   'QH',\n",
       "   '2S',\n",
       "   '5S',\n",
       "   '9S'],\n",
       "  'W': ['3C',\n",
       "   '9C',\n",
       "   'JC',\n",
       "   '5D',\n",
       "   '7D',\n",
       "   '9D',\n",
       "   '4H',\n",
       "   '7H',\n",
       "   '4S',\n",
       "   '6S',\n",
       "   '8S',\n",
       "   'TS',\n",
       "   'KS']}}"
      ]
     },
     "execution_count": 7,
     "metadata": {},
     "output_type": "execute_result"
    }
   ],
   "source": [
    "get_board_from_identifier(ex[0][\"board\"])"
   ]
  },
  {
   "cell_type": "code",
   "execution_count": 8,
   "id": "36acf8d6-8635-45ba-953b-27f2e5e6a6fd",
   "metadata": {},
   "outputs": [
    {
     "data": {
      "text/plain": [
       "['P', '1D', 'X', 'P', '1S', '2D', '2S', 'P', '4S', 'P', 'P', 'P']"
      ]
     },
     "execution_count": 8,
     "metadata": {},
     "output_type": "execute_result"
    }
   ],
   "source": [
    "ex[0][\"calls\"]"
   ]
  },
  {
   "cell_type": "code",
   "execution_count": 9,
   "id": "64bb3d7e-46d1-4642-8ec9-f478f26c5c19",
   "metadata": {},
   "outputs": [
    {
     "data": {
      "text/plain": [
       "'4-ba4b7058ecc802db04967b7b5d'"
      ]
     },
     "execution_count": 9,
     "metadata": {},
     "output_type": "execute_result"
    }
   ],
   "source": [
    "ex[0][\"board\"]"
   ]
  },
  {
   "cell_type": "code",
   "execution_count": null,
   "id": "ed0e859f-1dde-46ea-b46b-817e2811b4dc",
   "metadata": {},
   "outputs": [],
   "source": []
  }
 ],
 "metadata": {
  "kernelspec": {
   "display_name": "azureml_py38_PT_and_TF",
   "language": "python",
   "name": "conda-env-azureml_py38_PT_and_TF-py"
  },
  "language_info": {
   "codemirror_mode": {
    "name": "ipython",
    "version": 3
   },
   "file_extension": ".py",
   "mimetype": "text/x-python",
   "name": "python",
   "nbconvert_exporter": "python",
   "pygments_lexer": "ipython3",
   "version": "3.8.5"
  }
 },
 "nbformat": 4,
 "nbformat_minor": 5
}
